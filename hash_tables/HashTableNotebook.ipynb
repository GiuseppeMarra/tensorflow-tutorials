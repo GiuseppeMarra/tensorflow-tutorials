{
 "cells": [
  {
   "cell_type": "markdown",
   "metadata": {
    "collapsed": true
   },
   "source": [
    "# Hash Table Implementation in Tensorflow"
   ]
  },
  {
   "cell_type": "markdown",
   "metadata": {},
   "source": [
    "Hash tables in tensorflow extend the interface `tf.contrib.lookup.LookupInterface`. The basic implementation is the `tf.contrib.lookup.HashTable``. It is a immutable object. It is first initialized and, then, the initial values are exploited in learning. It is very useful in defining vocabularies."
   ]
  },
  {
   "cell_type": "code",
   "execution_count": 1,
   "metadata": {},
   "outputs": [],
   "source": [
    "import tensorflow as tf\n",
    "sess = tf.InteractiveSession()"
   ]
  },
  {
   "cell_type": "code",
   "execution_count": 2,
   "metadata": {},
   "outputs": [
    {
     "name": "stdout",
     "output_type": "stream",
     "text": [
      "Gathered index: 1\n"
     ]
    }
   ],
   "source": [
    "keys = tf.constant([\"a\", \"b\", \"c\"])\n",
    "values = tf.range(3)\n",
    "\n",
    "\n",
    "table = tf.contrib.lookup.HashTable(\n",
    "    tf.contrib.lookup.KeyValueTensorInitializer(keys, values), -1)\n",
    "out = table.lookup(tf.constant(\"b\"))\n",
    "table.init.run()\n",
    "print(\"Gathered index: \" + str(out.eval()))"
   ]
  },
  {
   "cell_type": "markdown",
   "metadata": {},
   "source": [
    "The problem with `HashTable`s is that they cannot be updated during learning (i.e. no new keys can be added). If we have a pre-initialized set of labels, they can be a viable choice. If, instead, we need to add new keys during learning, TensorFlow provides a `MutableHashTable` and `MutableDenseHashTable`. The use is similar but we need to define specific operations to insert/update key-value pairs."
   ]
  },
  {
   "cell_type": "code",
   "execution_count": 3,
   "metadata": {},
   "outputs": [
    {
     "name": "stdout",
     "output_type": "stream",
     "text": [
      "Gathered values:\n[[  1.09999999e-01   4.38999987e+00   1.11000004e+01]\n [  9.01100006e+01   1.12389999e+02   1.10000002e+00]]\n"
     ]
    }
   ],
   "source": [
    "keys = tf.constant([\"ciao\", \"come\", \"stai\"], tf.string)\n",
    "values = tf.constant([1., 2., 3.], tf.float32)\n",
    "query = tf.constant([\"come\", \"stai\"], tf.string)\n",
    "embeddings = tf.constant([[12.4, 17.2, 0.77], [1.11, 2.22, 3.77], [0.11, 4.39, 11.1], [90.11, 112.39, 1.1]])\n",
    "\n",
    "\n",
    "table = tf.contrib.lookup.MutableDenseHashTable(key_dtype = tf.string,\n",
    "                                        value_dtype = tf.float32, #int64 values not supported for string keys\n",
    "                                        default_value = -1,\n",
    "                                        empty_key = tf.constant(\"pad\"))\n",
    "\n",
    "\n",
    "insert_op = table.insert(keys,values) #In the MutableHashTable the insert/update is an operation, since it can be run during learning\n",
    "sess.run(insert_op)\n",
    "\n",
    "\n",
    "ind = table.lookup(query)\n",
    "ind = tf.cast(ind, tf.int64)\n",
    "\n",
    "out = tf.gather(params=embeddings, indices=ind)\n",
    "print(\"Gathered values:\")\n",
    "print(sess.run(out))"
   ]
  },
  {
   "cell_type": "code",
   "execution_count": null,
   "metadata": {},
   "outputs": [],
   "source": [
    ""
   ]
  }
 ],
 "metadata": {
  "kernelspec": {
   "display_name": "Python 2",
   "language": "python",
   "name": "python2"
  },
  "language_info": {
   "codemirror_mode": {
    "name": "ipython",
    "version": 2.0
   },
   "file_extension": ".py",
   "mimetype": "text/x-python",
   "name": "python",
   "nbconvert_exporter": "python",
   "pygments_lexer": "ipython2",
   "version": "2.7.6"
  }
 },
 "nbformat": 4,
 "nbformat_minor": 0
}